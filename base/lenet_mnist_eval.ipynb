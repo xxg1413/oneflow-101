{
 "cells": [
  {
   "cell_type": "code",
   "execution_count": 1,
   "metadata": {},
   "outputs": [],
   "source": [
    "## eval\n",
    "import numpy as np\n",
    "import oneflow as flow\n",
    "from typing import Tuple\n",
    "import oneflow.typing as tp"
   ]
  },
  {
   "cell_type": "code",
   "execution_count": 2,
   "metadata": {},
   "outputs": [],
   "source": [
    "BATCH_SIZE = 100"
   ]
  },
  {
   "cell_type": "code",
   "execution_count": 3,
   "metadata": {},
   "outputs": [],
   "source": [
    "def lenet(data, train=False):\n",
    "    initializer = flow.truncated_normal(0.1)\n",
    "    conv1 = flow.layers.conv2d(\n",
    "        data,\n",
    "        32,\n",
    "        5,\n",
    "        padding=\"SAME\",\n",
    "        activation=flow.nn.relu,\n",
    "        name=\"conv1\",\n",
    "        kernel_initializer=initializer,\n",
    "    )\n",
    "    pool1 = flow.nn.max_pool2d(\n",
    "        conv1, ksize=2, strides=2, padding=\"SAME\", name=\"pool1\", data_format=\"NCHW\"\n",
    "    )\n",
    "    conv2 = flow.layers.conv2d(\n",
    "        pool1,\n",
    "        64,\n",
    "        5,\n",
    "        padding=\"SAME\",\n",
    "        activation=flow.nn.relu,\n",
    "        name=\"conv2\",\n",
    "        kernel_initializer=initializer,\n",
    "    )\n",
    "    pool2 = flow.nn.max_pool2d(\n",
    "        conv2, ksize=2, strides=2, padding=\"SAME\", name=\"pool2\", data_format=\"NCHW\"\n",
    "    )\n",
    "    reshape = flow.reshape(pool2, [pool2.shape[0], -1])\n",
    "    hidden = flow.layers.dense(\n",
    "        reshape,\n",
    "        512,\n",
    "        activation=flow.nn.relu,\n",
    "        kernel_initializer=initializer,\n",
    "        name=\"dense1\",\n",
    "    )\n",
    "    if train:\n",
    "        hidden = flow.nn.dropout(hidden, rate=0.5, name=\"dropout\")\n",
    "    return flow.layers.dense(hidden, 10, kernel_initializer=initializer, name=\"dense2\")"
   ]
  },
  {
   "cell_type": "code",
   "execution_count": 4,
   "metadata": {},
   "outputs": [],
   "source": [
    "##预测\n",
    "@flow.global_function(type=\"predict\")\n",
    "def eval_job(\n",
    "    images: tp.Numpy.Placeholder((BATCH_SIZE, 1, 28, 28), dtype=flow.float),\n",
    "    labels: tp.Numpy.Placeholder((BATCH_SIZE,), dtype=flow.int32),\n",
    ") -> Tuple[tp.Numpy, tp.Numpy]:\n",
    "    with flow.scope.placement(\"gpu\", \"0:0\"):\n",
    "        logits = lenet(images, train=False)\n",
    "        loss = flow.nn.sparse_softmax_cross_entropy_with_logits(\n",
    "            labels, logits, name=\"softmax_loss\"\n",
    "        )\n",
    "\n",
    "    return (labels, logits)"
   ]
  },
  {
   "cell_type": "code",
   "execution_count": 5,
   "metadata": {},
   "outputs": [],
   "source": [
    "g_total = 0\n",
    "g_correct = 0"
   ]
  },
  {
   "cell_type": "code",
   "execution_count": 6,
   "metadata": {},
   "outputs": [],
   "source": [
    "def acc(labels, logits):\n",
    "    global g_total\n",
    "    global g_correct\n",
    "\n",
    "    predictions = np.argmax(logits, 1)\n",
    "    right_count = np.sum(predictions == labels)\n",
    "    g_total += labels.shape[0]\n",
    "    g_correct += right_count"
   ]
  },
  {
   "cell_type": "code",
   "execution_count": 7,
   "metadata": {},
   "outputs": [],
   "source": [
    "check_point = flow.train.CheckPoint()\n",
    "check_point.load(\"./model/lenet_models_1\")"
   ]
  },
  {
   "cell_type": "code",
   "execution_count": 8,
   "metadata": {},
   "outputs": [
    {
     "name": "stderr",
     "output_type": "stream",
     "text": [
      "./mnist.npz:   0%|          | 50/11221.4296875 [00:00<00:22, 499.93k/s]"
     ]
    },
    {
     "name": "stdout",
     "output_type": "stream",
     "text": [
      "File size: 11221.4297 kb, downloading...\n"
     ]
    },
    {
     "name": "stderr",
     "output_type": "stream",
     "text": [
      "./mnist.npz: 11222k [00:00, 16575.38k/s]                                  \n"
     ]
    },
    {
     "name": "stdout",
     "output_type": "stream",
     "text": [
      "Done!\n",
      "File mnist.npz already exist, path: ./mnist.npz\n"
     ]
    }
   ],
   "source": [
    "(train_images, train_labels), (test_images, test_labels) = flow.data.load_mnist(\n",
    "        BATCH_SIZE, BATCH_SIZE\n",
    "    )"
   ]
  },
  {
   "cell_type": "code",
   "execution_count": 9,
   "metadata": {},
   "outputs": [],
   "source": [
    "for epoch in range(1):\n",
    "    for i, (images, labels) in enumerate(zip(test_images, test_labels)):\n",
    "        labels, logits = eval_job(images, labels)\n",
    "        acc(labels, logits)\n"
   ]
  },
  {
   "cell_type": "code",
   "execution_count": 10,
   "metadata": {},
   "outputs": [
    {
     "name": "stdout",
     "output_type": "stream",
     "text": [
      "accuracy: 99.2%\n"
     ]
    }
   ],
   "source": [
    " print(\"accuracy: {0:.1f}%\".format(g_correct * 100 / g_total))"
   ]
  },
  {
   "cell_type": "code",
   "execution_count": null,
   "metadata": {},
   "outputs": [],
   "source": []
  }
 ],
 "metadata": {
  "kernelspec": {
   "display_name": "Python 3",
   "language": "python",
   "name": "python3"
  },
  "language_info": {
   "codemirror_mode": {
    "name": "ipython",
    "version": 3
   },
   "file_extension": ".py",
   "mimetype": "text/x-python",
   "name": "python",
   "nbconvert_exporter": "python",
   "pygments_lexer": "ipython3",
   "version": "3.8.2"
  }
 },
 "nbformat": 4,
 "nbformat_minor": 4
}
