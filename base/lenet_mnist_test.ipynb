{
 "cells": [
  {
   "cell_type": "code",
   "execution_count": 1,
   "metadata": {},
   "outputs": [],
   "source": [
    "import numpy as np\n",
    "import oneflow as flow\n",
    "from PIL import Image\n",
    "import sys\n",
    "import os\n",
    "import oneflow.typing as tp\n"
   ]
  },
  {
   "cell_type": "code",
   "execution_count": 2,
   "metadata": {},
   "outputs": [],
   "source": [
    "BATCH_SIZE = 1"
   ]
  },
  {
   "cell_type": "code",
   "execution_count": 4,
   "metadata": {},
   "outputs": [],
   "source": [
    "def lenet(data, train=False):\n",
    "    initializer = flow.truncated_normal(0.1)\n",
    "    conv1 = flow.layers.conv2d(\n",
    "        data,\n",
    "        32,\n",
    "        5,\n",
    "        padding=\"SAME\",\n",
    "        activation=flow.nn.relu,\n",
    "        name=\"conv1\",\n",
    "        kernel_initializer=initializer,\n",
    "    )\n",
    "    pool1 = flow.nn.max_pool2d(\n",
    "        conv1, ksize=2, strides=2, padding=\"SAME\", name=\"pool1\", data_format=\"NCHW\"\n",
    "    )\n",
    "    conv2 = flow.layers.conv2d(\n",
    "        pool1,\n",
    "        64,\n",
    "        5,\n",
    "        padding=\"SAME\",\n",
    "        activation=flow.nn.relu,\n",
    "        name=\"conv2\",\n",
    "        kernel_initializer=initializer,\n",
    "    )\n",
    "    pool2 = flow.nn.max_pool2d(\n",
    "        conv2, ksize=2, strides=2, padding=\"SAME\", name=\"pool2\", data_format=\"NCHW\"\n",
    "    )\n",
    "    reshape = flow.reshape(pool2, [pool2.shape[0], -1])\n",
    "    hidden = flow.layers.dense(\n",
    "        reshape,\n",
    "        512,\n",
    "        activation=flow.nn.relu,\n",
    "        kernel_initializer=initializer,\n",
    "        name=\"dense1\",\n",
    "    )\n",
    "    if train:\n",
    "        hidden = flow.nn.dropout(hidden, rate=0.5, name=\"dropout\")\n",
    "    return flow.layers.dense(hidden, 10, kernel_initializer=initializer, name=\"dense2\")"
   ]
  },
  {
   "cell_type": "code",
   "execution_count": 5,
   "metadata": {},
   "outputs": [],
   "source": [
    "@flow.global_function(type=\"predict\")\n",
    "def eval_job(\n",
    "    images: tp.Numpy.Placeholder((BATCH_SIZE, 1, 28, 28), dtype=flow.float),\n",
    "    labels: tp.Numpy.Placeholder((BATCH_SIZE,), dtype=flow.int32),\n",
    ") -> tp.Numpy:\n",
    "    with flow.scope.placement(\"gpu\", \"0:0\"):\n",
    "        logits = lenet(images, train=False)\n",
    "    return logits\n",
    "\n"
   ]
  },
  {
   "cell_type": "code",
   "execution_count": 6,
   "metadata": {},
   "outputs": [],
   "source": [
    "def load_image(file):\n",
    "    im = Image.open(file).convert(\"L\")\n",
    "    im = im.resize((28, 28), Image.ANTIALIAS)\n",
    "    im = np.array(im).reshape(1, 1, 28, 28).astype(np.float32)\n",
    "    im = (im - 128.0) / 255.0\n",
    "    im.reshape((-1, 1, 1, im.shape[1], im.shape[2]))\n",
    "    return im\n"
   ]
  },
  {
   "cell_type": "code",
   "execution_count": 7,
   "metadata": {},
   "outputs": [],
   "source": [
    "check_point = flow.train.CheckPoint()\n",
    "check_point.load(\"./model/lenet_models_1\")"
   ]
  },
  {
   "cell_type": "code",
   "execution_count": 8,
   "metadata": {},
   "outputs": [
    {
     "name": "stdout",
     "output_type": "stream",
     "text": [
      "prediction: 9\n"
     ]
    }
   ],
   "source": [
    "image = load_image(\"./img/9.png\")\n",
    "logits = eval_job(image, np.zeros((1,)).astype(np.int32))\n",
    "\n",
    "prediction = np.argmax(logits, 1)\n",
    "print(\"prediction: {}\".format(prediction[0]))\n"
   ]
  },
  {
   "cell_type": "code",
   "execution_count": null,
   "metadata": {},
   "outputs": [],
   "source": []
  }
 ],
 "metadata": {
  "kernelspec": {
   "display_name": "Python 3",
   "language": "python",
   "name": "python3"
  },
  "language_info": {
   "codemirror_mode": {
    "name": "ipython",
    "version": 3
   },
   "file_extension": ".py",
   "mimetype": "text/x-python",
   "name": "python",
   "nbconvert_exporter": "python",
   "pygments_lexer": "ipython3",
   "version": "3.8.2"
  }
 },
 "nbformat": 4,
 "nbformat_minor": 4
}
