{
 "cells": [
  {
   "cell_type": "code",
   "execution_count": 1,
   "metadata": {},
   "outputs": [],
   "source": [
    "import oneflow as flow \n",
    "import oneflow.typing as tp"
   ]
  },
  {
   "cell_type": "code",
   "execution_count": 2,
   "metadata": {},
   "outputs": [],
   "source": [
    "BATCH_SIZE = 100"
   ]
  },
  {
   "cell_type": "code",
   "execution_count": 3,
   "metadata": {},
   "outputs": [],
   "source": [
    "@flow.global_function(type=\"train\")\n",
    "#作业函数\n",
    "def train_job(\n",
    "    images: tp.Numpy.Placeholder((BATCH_SIZE, 1, 28, 28), dtype=flow.float),\n",
    "    labels: tp.Numpy.Placeholder((BATCH_SIZE,), dtype=flow.int32),\n",
    ") -> tp.Numpy:\n",
    "    with flow.scope.placement(\"cpu\", \"0:0\"):\n",
    "        initializer = flow.truncated_normal(0.1)\n",
    "        reshape = flow.reshape(images, [images.shape[0], -1])\n",
    "        hidden = flow.layers.dense(\n",
    "            reshape,\n",
    "            512,\n",
    "            activation=flow.nn.relu,\n",
    "            kernel_initializer=initializer,\n",
    "            name=\"dense1\",\n",
    "        )\n",
    "        logits = flow.layers.dense(\n",
    "            hidden, 10, kernel_initializer=initializer, name=\"dense2\"\n",
    "        )\n",
    "        loss = flow.nn.sparse_softmax_cross_entropy_with_logits(labels, logits)\n",
    "\n",
    "    lr_scheduler = flow.optimizer.PiecewiseConstantScheduler([], [0.1])\n",
    "    flow.optimizer.SGD(lr_scheduler, momentum=0).minimize(loss)\n",
    "\n",
    "    return loss\n"
   ]
  },
  {
   "cell_type": "code",
   "execution_count": 4,
   "metadata": {},
   "outputs": [],
   "source": [
    "#初始化checkpoint\n",
    "check_point = flow.train.CheckPoint()\n",
    "check_point.init()"
   ]
  },
  {
   "cell_type": "code",
   "execution_count": 5,
   "metadata": {},
   "outputs": [
    {
     "name": "stdout",
     "output_type": "stream",
     "text": [
      "File mnist.npz already exist, path: ./mnist.npz\n"
     ]
    }
   ],
   "source": [
    " (train_images, train_labels), (test_images, test_labels) = flow.data.load_mnist(\n",
    "        BATCH_SIZE, BATCH_SIZE\n",
    "    )"
   ]
  },
  {
   "cell_type": "code",
   "execution_count": 6,
   "metadata": {},
   "outputs": [
    {
     "name": "stdout",
     "output_type": "stream",
     "text": [
      "3.7168775\n",
      "0.8495066\n",
      "0.5526892\n",
      "0.36495122\n",
      "0.36913228\n",
      "0.41484782\n",
      "0.4176693\n",
      "0.48654634\n",
      "0.5082862\n",
      "0.32437402\n",
      "0.5002268\n",
      "0.24401057\n",
      "0.31899843\n",
      "0.25835595\n",
      "0.17804009\n",
      "0.36032844\n",
      "0.34623224\n",
      "0.28273284\n",
      "0.3515799\n",
      "0.29099074\n",
      "0.27752814\n",
      "0.3082276\n",
      "0.18332332\n",
      "0.43328112\n",
      "0.2645805\n",
      "0.3003138\n",
      "0.33684796\n",
      "0.29110742\n",
      "0.17175771\n",
      "0.22444227\n"
     ]
    }
   ],
   "source": [
    "for i, (images, labels) in enumerate(zip(train_images, train_labels)):\n",
    "    loss = train_job(images, labels)\n",
    "    if i % 20 == 0:\n",
    "        print(loss.mean())"
   ]
  },
  {
   "cell_type": "code",
   "execution_count": null,
   "metadata": {},
   "outputs": [],
   "source": []
  }
 ],
 "metadata": {
  "kernelspec": {
   "display_name": "Python 3",
   "language": "python",
   "name": "python3"
  },
  "language_info": {
   "codemirror_mode": {
    "name": "ipython",
    "version": 3
   },
   "file_extension": ".py",
   "mimetype": "text/x-python",
   "name": "python",
   "nbconvert_exporter": "python",
   "pygments_lexer": "ipython3",
   "version": "3.8.2"
  }
 },
 "nbformat": 4,
 "nbformat_minor": 4
}
